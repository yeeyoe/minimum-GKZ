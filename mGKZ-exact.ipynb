{
 "cells": [
  {
   "cell_type": "code",
   "execution_count": 1,
   "id": "e6237bd4-64f6-4f62-aceb-22c709870f70",
   "metadata": {},
   "outputs": [],
   "source": [
    "# This program compute the minimal GKZ vector associated to a point-configuration\n",
    "# using secondary_polytope() in Sagemath and symbolic minimize in Mathematica\n",
    "# input: point-configuration A\n",
    "# output: fraction minimal GKZ vector"
   ]
  },
  {
   "cell_type": "code",
   "execution_count": 2,
   "id": "0005f8ef-c806-4cf5-a844-0a1678e8f35f",
   "metadata": {},
   "outputs": [],
   "source": [
    "reset()"
   ]
  },
  {
   "cell_type": "code",
   "execution_count": 3,
   "id": "133b3c81-3a19-449b-8494-967130211a3b",
   "metadata": {},
   "outputs": [],
   "source": [
    "A = [[0], [7], [8], [9], [10], [11], [12], [13], [14], [15], [16]] # point-configuration\n",
    "\n",
    "# [[0], [7], [8], [9], [10], [11], [12], [13], [14], [15]] 1-dim nonaffine mGKZ\n",
    "# mather example [4,0,0], [0,4,0], [0,0,4], [2,1,1], [1,2,1], [1,1,2]\n",
    "# Naoto's five points [0,0], [1,0], [2,0], [1,1], [0,1]\n",
    "# skew four points [0,0], [1,2], [2,1], [17,9]\n",
    "# [1,0], [9,0], [24,7], [3,3], [0,1]\n",
    "# Yotsutani-Zhou C2 [0,-1,1], [2,-1,-1], [2,0,-1], [0,0,1], [-1,3,-1], [-1,1,1], [-1,-1,-1], [-1,-1,1]"
   ]
  },
  {
   "cell_type": "code",
   "execution_count": 4,
   "id": "dd4be1b1",
   "metadata": {},
   "outputs": [
    {
     "name": "stdout",
     "output_type": "stream",
     "text": [
      "A中点的个数: 11\n",
      "Q=conv(A)的面数: 2\n",
      "Q=conv(A)的顶点数: 2\n"
     ]
    },
    {
     "data": {
      "image/png": "[encoded data removed]",
      "text/plain": [
       "Graphics object consisting of 2 graphics primitives"
      ]
     },
     "metadata": {},
     "output_type": "display_data"
    }
   ],
   "source": [
    "Ap = PointConfiguration(A)\n",
    "Q = Polyhedron(A)\n",
    "N = len(A) # 点的个数\n",
    "n = len(A[0]) # 维数\n",
    "f = len(Q.faces(n-1))\n",
    "v = Q.n_vertices()\n",
    "print(\"A中点的个数:\", N)\n",
    "print(\"Q=conv(A)的面数:\", f)\n",
    "print(\"Q=conv(A)的顶点数:\", v)\n",
    "Q.show(aspect_ratio=1, axes=True)"
   ]
  },
  {
   "cell_type": "code",
   "execution_count": 5,
   "id": "996cfa6a-5863-4eb6-bbb8-bd092122743c",
   "metadata": {},
   "outputs": [],
   "source": [
    "# 构成secondary polytope SP\n",
    "SP = Ap.secondary_polytope()\n",
    "# SP.Vrepresentation()\n",
    "# SP.Hrepresentation()  # 其中含有 n+1 个等式约束"
   ]
  },
  {
   "cell_type": "code",
   "execution_count": 6,
   "id": "5b5ba2ba",
   "metadata": {},
   "outputs": [],
   "source": [
    "# 将 SP 的约束改写成 Mathematica 的格式存入文件\n",
    "# 从 SP.Hrepresentation() 获取等式约束\n",
    "equations = []\n",
    "for ineq in SP.Hrepresentation():\n",
    "    if isinstance(ineq, sage.geometry.polyhedron.representation.Equation):\n",
    "        # 获取系数并转换为列表\n",
    "        coeffs = list(ineq.vector())\n",
    "        equations.append(coeffs)\n",
    "\n",
    "# 格式化输出字符串\n",
    "output = \"{\"\n",
    "for i, eq in enumerate(equations):\n",
    "    output += \"{\" + \", \".join(map(str, eq)) + \"}\"\n",
    "    if i < len(equations)-1:\n",
    "        output += \", \"\n",
    "output += \"}\"\n",
    "\n",
    "# 将等式约束写入文件 equations.txt\n",
    "with open('equations.txt', 'w') as f:\n",
    "    f.write(output)\n",
    "\n",
    "\n",
    "# 从 SP.Hrepresentation() 获取不等式约束\n",
    "inequalities = []\n",
    "for ineq in SP.Hrepresentation():\n",
    "    if isinstance(ineq, sage.geometry.polyhedron.representation.Inequality):\n",
    "        # 获取系数并转换为列表\n",
    "        coeffs = list(ineq.vector())\n",
    "        inequalities.append(coeffs)\n",
    "\n",
    "# 格式化输出字符串\n",
    "output = \"{\"\n",
    "for i, ineq in enumerate(inequalities):\n",
    "    output += \"{\" + \", \".join(map(str, ineq)) + \"}\"\n",
    "    if i < len(inequalities)-1:\n",
    "        output += \", \"\n",
    "output += \"}\"\n",
    "\n",
    "# 将不等式约束写入文件 inequations.txt\n",
    "with open('inequalities.txt', 'w') as f:\n",
    "    f.write(output)\n"
   ]
  },
  {
   "cell_type": "code",
   "execution_count": 7,
   "id": "50d9c244",
   "metadata": {},
   "outputs": [
    {
     "name": "stdout",
     "output_type": "stream",
     "text": [
      "mini GKZ vector:  [1217/157, 643/157, 561/157, 479/157, 397/157, 11/5, 2, 9/5, 8/5, 7/5]\n"
     ]
    }
   ],
   "source": [
    "#>>>>>>>>Run nearest-point.nb in MATHEMATICA，and then run Sage from this cell.\n",
    "with open('/Users/mac/Nutstore Files/我的坚果云/mGKZ codes/mac/mGKZ.txt', 'r') as f:\n",
    "    content = f.read().strip()\n",
    "    # 去掉首尾的大括号\n",
    "    content = content[1:-1]\n",
    "    # 分割每个分数字符串\n",
    "    fractions = content.split(',')\n",
    "    # 将每个分数字符串转换为分数\n",
    "    mGKZ = []\n",
    "    for frac in fractions:\n",
    "        frac = frac.strip()\n",
    "        if '/' in frac:\n",
    "            num, den = map(int, frac.split('/'))\n",
    "            mGKZ.append(QQ(num)/QQ(den))\n",
    "        else:\n",
    "            mGKZ.append(QQ(int(frac)))\n",
    "\n",
    "\n",
    "print(\"mini GKZ vector: \", mGKZ)\n",
    "\n"
   ]
  },
  {
   "cell_type": "code",
   "execution_count": 8,
   "id": "30a0a697",
   "metadata": {},
   "outputs": [
    {
     "data": {
      "text/plain": [
       "(An inequality (82, 157) x - 1217 >= 0,\n",
       " An inequality (-1662, -3925) x + 30425 >= 0,\n",
       " An inequality (1, 5) x - 22 >= 0,\n",
       " An inequality (258, 785) x - 4565 >= 0)"
      ]
     },
     "execution_count": 8,
     "metadata": {},
     "output_type": "execute_result"
    }
   ],
   "source": [
    "# 计算 mGKZ 的 lower convex envelop\n",
    "liftA = [a + [b] for a, b in zip(A, mGKZ)]\n",
    "liftQ = Polyhedron(liftA)\n",
    "HLQ = liftQ.Hrepresentation()\n",
    "lowHLQ = [ineq for ineq in HLQ if ineq[n+1] > 0]\n",
    "HLQ"
   ]
  },
  {
   "cell_type": "code",
   "execution_count": 9,
   "id": "fcc4f08d",
   "metadata": {},
   "outputs": [
    {
     "data": {
      "image/png": "[encoded data removed]",
      "text/plain": [
       "Graphics object consisting of 7 graphics primitives"
      ]
     },
     "metadata": {},
     "output_type": "display_data"
    }
   ],
   "source": [
    "F1 = liftQ.plot(axes=True)\n",
    "F2 = point2d(liftA, color='red', size=30)\n",
    "F3 = F1 + F2\n",
    "\n",
    "# 显示结果\n",
    "F3.show()"
   ]
  }
 ],
 "metadata": {
  "kernelspec": {
   "display_name": "SageMath 10.5",
   "language": "sage",
   "name": "SageMath-10.5"
  },
  "language_info": {
   "codemirror_mode": {
    "name": "ipython",
    "version": 3
   },
   "file_extension": ".py",
   "mimetype": "text/x-python",
   "name": "python",
   "nbconvert_exporter": "python",
   "pygments_lexer": "ipython3",
   "version": "3.12.5"
  }
 },
 "nbformat": 4,
 "nbformat_minor": 5
}
